{
  "nbformat": 4,
  "nbformat_minor": 0,
  "metadata": {
    "colab": {
      "provenance": [],
      "include_colab_link": true
    },
    "kernelspec": {
      "name": "python3",
      "display_name": "Python 3"
    },
    "language_info": {
      "name": "python"
    }
  },
  "cells": [
    {
      "cell_type": "markdown",
      "metadata": {
        "id": "view-in-github",
        "colab_type": "text"
      },
      "source": [
        "<a href=\"https://colab.research.google.com/github/lopezeliasg/Python-Data/blob/main/Informatorio_Data_Analytics%2C_Ejercicios_Resueltos_de_Clase_2_Python.ipynb\" target=\"_parent\"><img src=\"https://colab.research.google.com/assets/colab-badge.svg\" alt=\"Open In Colab\"/></a>"
      ]
    },
    {
      "cell_type": "markdown",
      "source": [
        "#**Atajos de Markdown en Google Colab** **(Bonus)**\n",
        "Atajos más comunes de Markdown para utilizar en **Google Colab**:"
      ],
      "metadata": {
        "id": "_eN4FBnugpXu"
      }
    },
    {
      "cell_type": "markdown",
      "source": [
        "#**Títulos**\n",
        "Para crear un título, debes colocar el número de signos # correspondiente al nivel del título, seguido de un espacio y el texto del título. \n",
        "**Por ejemplo:**\n",
        " \n",
        "# Título nivel 1\n",
        "## Título nivel 2\n",
        "### Título nivel 3"
      ],
      "metadata": {
        "id": "PfiVQ_39gqcS"
      }
    },
    {
      "cell_type": "markdown",
      "source": [
        "#**Negrita** y *cursiva*\n",
        "Para resaltar texto, puedes usar los asteriscos o guiones bajos. Si colocas uno a cada lado del texto, este se mostrará en cursiva. Si colocas dos, se mostrará en negrita. \n",
        "**Por ejemplo:**\n",
        "\n",
        "*Texto en cursiva*\n",
        "**Texto en negrita**"
      ],
      "metadata": {
        "id": "PK_9kXdMgqn-"
      }
    },
    {
      "cell_type": "markdown",
      "source": [
        "#**Listas**\n",
        "Para crear listas con viñetas, puedes usar un asterisco, un guion o un signo más seguido de un espacio. Para crear listas numeradas, simplemente coloca el número seguido de un punto y un espacio.\n",
        " **Por ejemplo:**\n",
        "\n",
        "- Elemento 1\n",
        "- Elemento 2\n",
        "- Elemento 3\n",
        "\n",
        "1. Elemento 1\n",
        "2. Elemento 2\n",
        "3. Elemento 3\n"
      ],
      "metadata": {
        "id": "3dyT0yZ5gqs-"
      }
    },
    {
      "cell_type": "markdown",
      "source": [
        "#**Enlaces e imágenes**\n",
        "Para insertar un enlace, debes encerrar el texto del enlace entre corchetes y la URL entre paréntesis. Para insertar una imagen, debes usar una sintaxis similar, pero precediendo la URL con un signo de exclamación. **Por ejemplo:**\n",
        "\n",
        "[Enlace a Google](https://www.google.com)\n",
        "![Imagen de un gato](https://upload.wikimedia.org/wikipedia/commons/3/3a/Cat03.jpg)\n"
      ],
      "metadata": {
        "id": "-G0xDqLggqyf"
      }
    },
    {
      "cell_type": "markdown",
      "source": [
        "#**Código**\n",
        "Para mostrar código, puedes encerrarlo entre comillas invertidas ` o crear bloques de código usando tres comillas invertidas al principio y al final. **Por ejemplo:**\n",
        "\n",
        "`print(\"Hola mundo\")`"
      ],
      "metadata": {
        "id": "fpzXD2-FhqRo"
      }
    },
    {
      "cell_type": "markdown",
      "source": [
        "#**Citas**\n",
        "Para citar texto, debes colocar el texto entre el signo de mayor que > y un espacio. Puedes anidar citas utilizando varios signos de mayor que. **Por ejemplo:**\n",
        "> Esto es una cita\n",
        ">> Esta es una cita anidada\n"
      ],
      "metadata": {
        "id": "bj_bZ8J7hq1C"
      }
    },
    {
      "cell_type": "code",
      "source": [
        "print(\"Hola mundo\")"
      ],
      "metadata": {
        "colab": {
          "base_uri": "https://localhost:8080/"
        },
        "id": "fYqvFL0aeP_-",
        "outputId": "d6c01591-bba1-44f1-a588-33e61678c173"
      },
      "execution_count": null,
      "outputs": [
        {
          "output_type": "stream",
          "name": "stdout",
          "text": [
            "Hola mundo\n"
          ]
        }
      ]
    },
    {
      "cell_type": "code",
      "source": [
        "nombre = \"Elias\"\n",
        "apellido = \"Lopez\"\n",
        "print(nombre, apellido)"
      ],
      "metadata": {
        "colab": {
          "base_uri": "https://localhost:8080/"
        },
        "id": "EnJc9ZnFidna",
        "outputId": "2f962b43-02c1-4310-d006-a9f1571443e3"
      },
      "execution_count": 33,
      "outputs": [
        {
          "output_type": "stream",
          "name": "stdout",
          "text": [
            "Elias Lopez\n"
          ]
        }
      ]
    },
    {
      "cell_type": "code",
      "source": [
        "print(\"hola mundo\", 4.5, False, end=\"\\n\")\n",
        "print(\"Hola\")"
      ],
      "metadata": {
        "colab": {
          "base_uri": "https://localhost:8080/"
        },
        "id": "EJf-A8ktk6WP",
        "outputId": "b51568ae-f009-49cd-95d7-d053dec5a1c4"
      },
      "execution_count": null,
      "outputs": [
        {
          "output_type": "stream",
          "name": "stdout",
          "text": [
            "hola mundo 4.5 False\n",
            "Hola\n"
          ]
        }
      ]
    },
    {
      "cell_type": "code",
      "source": [
        "nombre = \"Elias\"\n",
        "apellido = \"Lopez\"\n",
        "print(nombre, apellido)"
      ],
      "metadata": {
        "colab": {
          "base_uri": "https://localhost:8080/"
        },
        "id": "a5--2lNzvLag",
        "outputId": "27e04ff5-7968-4df6-ccf3-81a645276582"
      },
      "execution_count": 34,
      "outputs": [
        {
          "output_type": "stream",
          "name": "stdout",
          "text": [
            "Elias Lopez\n"
          ]
        }
      ]
    },
    {
      "cell_type": "code",
      "source": [
        "input(\"Nombre: \")"
      ],
      "metadata": {
        "colab": {
          "base_uri": "https://localhost:8080/",
          "height": 53
        },
        "id": "LxL46qiDvfbU",
        "outputId": "61e6f6b1-fe54-4720-ca16-731db9f49924"
      },
      "execution_count": 35,
      "outputs": [
        {
          "name": "stdout",
          "output_type": "stream",
          "text": [
            "Nombre: ELIAS\n"
          ]
        },
        {
          "output_type": "execute_result",
          "data": {
            "text/plain": [
              "'ELIAS'"
            ],
            "application/vnd.google.colaboratory.intrinsic+json": {
              "type": "string"
            }
          },
          "metadata": {},
          "execution_count": 35
        }
      ]
    },
    {
      "cell_type": "code",
      "source": [
        "nombre = input(\"Nombre: \")\n",
        "apellido = input(\"Apellido: \")\n",
        "apellido_minus = apellido.lower()\n"
      ],
      "metadata": {
        "colab": {
          "base_uri": "https://localhost:8080/"
        },
        "id": "BeteVrFYvWgE",
        "outputId": "65dfa595-9f84-42a4-b02c-2d9425c39d0b"
      },
      "execution_count": 36,
      "outputs": [
        {
          "name": "stdout",
          "output_type": "stream",
          "text": [
            "Nombre: Elias\n",
            "Apellido: Lopez\n"
          ]
        }
      ]
    },
    {
      "cell_type": "code",
      "source": [
        "print(apellido)"
      ],
      "metadata": {
        "colab": {
          "base_uri": "https://localhost:8080/"
        },
        "id": "Xh4wjdAzxC-1",
        "outputId": "0425c753-7ecc-41e4-abc6-256cbe8bfb50"
      },
      "execution_count": 37,
      "outputs": [
        {
          "output_type": "stream",
          "name": "stdout",
          "text": [
            "Lopez\n"
          ]
        }
      ]
    },
    {
      "cell_type": "code",
      "source": [
        "apellido.upper().count(\"S\")\n"
      ],
      "metadata": {
        "colab": {
          "base_uri": "https://localhost:8080/"
        },
        "id": "zgeczBFswwNV",
        "outputId": "c5c1711b-dae9-4c0b-e00c-f7e66833d1d4"
      },
      "execution_count": 38,
      "outputs": [
        {
          "output_type": "execute_result",
          "data": {
            "text/plain": [
              "0"
            ]
          },
          "metadata": {},
          "execution_count": 38
        }
      ]
    },
    {
      "cell_type": "code",
      "source": [
        "x = \"hola\"\n",
        "y = \" mundo\"\n",
        "\n",
        "print(x+y)"
      ],
      "metadata": {
        "colab": {
          "base_uri": "https://localhost:8080/"
        },
        "id": "rQLP3MinxbCS",
        "outputId": "379aa9cd-f2bb-4128-ce87-e4eaf3c66e74"
      },
      "execution_count": 39,
      "outputs": [
        {
          "output_type": "stream",
          "name": "stdout",
          "text": [
            "hola mundo\n"
          ]
        }
      ]
    },
    {
      "cell_type": "markdown",
      "source": [
        "#**Actividades a resolver en clase:**\n",
        "##Act1: Calcular el área de un triángulo dado su base y altura. Pedir al usuario los valores de la base y la altura utilizando la función input(). Luego, calcular el área del triángulo e imprimir el resultado."
      ],
      "metadata": {
        "id": "ocGe7VgSiutn"
      }
    },
    {
      "cell_type": "code",
      "source": [
        "#Resolver ACT1 en esta celda.\n",
        "base = int(input(\"Base: \"))\n",
        "altura = int(input(\"Altura: \"))\n",
        "area = (base*altura)/2\n",
        "print(area)"
      ],
      "metadata": {
        "id": "fIWynBxjWvoy",
        "colab": {
          "base_uri": "https://localhost:8080/"
        },
        "outputId": "de53eca6-d9b9-4bbb-9787-3270c4f31c27"
      },
      "execution_count": 4,
      "outputs": [
        {
          "output_type": "stream",
          "name": "stdout",
          "text": [
            "Base: 40\n",
            "Altura: 30\n",
            "600.0\n"
          ]
        }
      ]
    },
    {
      "cell_type": "markdown",
      "source": [
        "##Act2: Convertir una temperatura en grados Celsius a Fahrenheit. Pedir al usuario el valor de la temperatura en Celsius utilizando la función input(). Luego, convertir la temperatura a Fahrenheit utilizando la fórmula F = (C * 9/5) + 32 e imprimir el resultado."
      ],
      "metadata": {
        "id": "YYUMZTkIjHcc"
      }
    },
    {
      "cell_type": "code",
      "source": [
        "#Resolver ACT2 en esta celda.\n",
        "celsius = int(input(\"Temperatura en Celsius: \"))\n",
        "temperaturaConversion = (celsius * 9/5) + 32\n",
        "print(temperaturaConversion)"
      ],
      "metadata": {
        "id": "KFIBRoVHjGvT",
        "colab": {
          "base_uri": "https://localhost:8080/"
        },
        "outputId": "80a748dc-f30f-4233-b8f5-b690a1d98fe3"
      },
      "execution_count": 5,
      "outputs": [
        {
          "output_type": "stream",
          "name": "stdout",
          "text": [
            "Temperatura en Celsius: 40\n",
            "104.0\n"
          ]
        }
      ]
    },
    {
      "cell_type": "markdown",
      "source": [
        "##Act3: Escribir un programa que pida al usuario dos números y muestre por pantalla su división si el segundo número es distinto de cero, o un mensaje de error en caso contrario."
      ],
      "metadata": {
        "id": "0eoq_tNYWv2-"
      }
    },
    {
      "cell_type": "code",
      "source": [
        "#Resolver ACT3 en esta celda.\n",
        "unNumero = int(input(\"Dame un Nro.: \"))\n",
        "otroNumero = int(input(\"Dame otro Nro.: \"))\n",
        "\n",
        "if (unNumero/otroNumero)!=0:\n",
        "  print(\"Es distinto de 0\")\n",
        "else:\n",
        "  print(\"Error\")"
      ],
      "metadata": {
        "id": "ZOrd2sOMyI_n",
        "colab": {
          "base_uri": "https://localhost:8080/"
        },
        "outputId": "66c294f9-0849-4ea1-9f99-a0c66e4c57d2"
      },
      "execution_count": 8,
      "outputs": [
        {
          "output_type": "stream",
          "name": "stdout",
          "text": [
            "Dame un Nro.: 1\n",
            "Dame otro Nro.: 1\n",
            "Es distinto de 0\n"
          ]
        }
      ]
    },
    {
      "cell_type": "markdown",
      "source": [
        "##Act4: Realizar un programa que lea tres números distintos y nos los muestre ordenados de menor a mayor."
      ],
      "metadata": {
        "id": "_GhFfLFujkBE"
      }
    },
    {
      "cell_type": "code",
      "source": [
        "#Resolver ACT4 en esta celda.\n",
        "j = 0\n",
        "numeros = []\n",
        "for i in range (1,4,1):\n",
        "  numero = int(input(f\"Numero #{i}: \"))\n",
        "  numeros.append(numero)\n",
        "  numerosOrdenados = sorted(numeros, reverse=False)\n",
        "print(\"Tus numeros: \", numeros)\n",
        "print(\"Numeros Ordenados: \", numerosOrdenados)"
      ],
      "metadata": {
        "id": "S3R25E61jmzq",
        "colab": {
          "base_uri": "https://localhost:8080/"
        },
        "outputId": "9c2111af-0c2a-4856-e4f8-b2a45850619a"
      },
      "execution_count": 18,
      "outputs": [
        {
          "output_type": "stream",
          "name": "stdout",
          "text": [
            "Numero #1: 40\n",
            "Numero #2: 20\n",
            "Numero #3: 5\n",
            "Tus numeros:  [40, 20, 5]\n",
            "Numeros Ordenados:  [5, 20, 40]\n"
          ]
        }
      ]
    },
    {
      "cell_type": "markdown",
      "source": [
        "##Act5: Escribir un programa que lea una cadena de texto y muestre por pantalla cuántas veces aparece cada letra del alfabeto en la cadena. El programa debe ignorar los espacios y los caracteres no alfabéticos."
      ],
      "metadata": {
        "id": "P-OfAMYejkG0"
      }
    },
    {
      "cell_type": "code",
      "source": [
        "#Resolver ACT5 en esta celda.\n",
        "cadena = str(input(\"Ingrese su texto: \"))\n",
        "letra = str(input(\"Ingrese letra a contar: \"))\n",
        "\n",
        "resultado = cadena.count(letra)\n",
        "print(f\"La letra '{letra}' aparece: \", resultado, \" veces\")"
      ],
      "metadata": {
        "id": "hLzmbXCiktG6",
        "colab": {
          "base_uri": "https://localhost:8080/"
        },
        "outputId": "83ece8ac-ac3c-4e00-aa0c-7630c7800fc5"
      },
      "execution_count": 21,
      "outputs": [
        {
          "output_type": "stream",
          "name": "stdout",
          "text": [
            "Ingrese su texto: Escribir un programa que lea una cadena de texto y muestre por pantalla cuántas veces aparece cada letra del alfabeto en la cadena. El programa debe ignorar los espacios y los caracteres no alfabéticos.\n",
            "Ingrese letra a contar: a\n",
            "La letra 'a' aparece:  28  veces\n"
          ]
        }
      ]
    },
    {
      "cell_type": "markdown",
      "source": [
        "##Act6: Escribir un programa que pida al usuario un número y muestre por pantalla su valor absoluto."
      ],
      "metadata": {
        "id": "_RjbqYe_jlAE"
      }
    },
    {
      "cell_type": "code",
      "source": [
        "#Resolver ACT6 en esta celda.\n",
        "numero = int(input(\"Dame un numero: \"))\n",
        "print(abs(numero))"
      ],
      "metadata": {
        "id": "99PiaHL0kt1t",
        "colab": {
          "base_uri": "https://localhost:8080/"
        },
        "outputId": "df235783-3542-402d-b761-781bf0f991b7"
      },
      "execution_count": 22,
      "outputs": [
        {
          "output_type": "stream",
          "name": "stdout",
          "text": [
            "Dame un numero: -80\n",
            "80\n"
          ]
        }
      ]
    },
    {
      "cell_type": "markdown",
      "source": [
        "##Act7: Escribir un programa que pida al usuario una lista de números separados por comas y muestre por pantalla el producto de dichos números."
      ],
      "metadata": {
        "id": "59wVDzs_jlL8"
      }
    },
    {
      "cell_type": "code",
      "source": [
        "#Resolver ACT7 en esta celda.\n",
        "numeros = input(\"Por favor ingresa numeros separados por coma: \")\n",
        "\n",
        "numerosSeparados = numeros.split(\",\")\n",
        "print(\"Tus numeros son: \", numerosSeparados)\n",
        "\n",
        "for i in range(len(numerosSeparados)):\n",
        "    numerosSeparados[i] = int(numerosSeparados[i])\n",
        "print(numerosSeparados)\n",
        "producto=1\n",
        "for numero in numerosSeparados:\n",
        "  producto *=(numero)\n",
        "print(f\"y el producto de los numeros de la lista es {producto}\")"
      ],
      "metadata": {
        "id": "siHN4ochkyMj",
        "colab": {
          "base_uri": "https://localhost:8080/"
        },
        "outputId": "ad769bd3-7b30-4a65-9544-408fc967afd5"
      },
      "execution_count": 32,
      "outputs": [
        {
          "output_type": "stream",
          "name": "stdout",
          "text": [
            "Por favor ingresa numeros separados por coma: 1,4,8\n",
            "Tus numeros son:  ['1', '4', '8']\n",
            "[1, 4, 8]\n",
            "y el producto de los numeros de la lista es 32\n"
          ]
        }
      ]
    },
    {
      "cell_type": "markdown",
      "source": [
        "##Act8: Escribir un programa que pida al usuario una lista de palabras y las muestre por pantalla ordenadas alfabéticamente."
      ],
      "metadata": {
        "id": "K6j2wj94kz0U"
      }
    },
    {
      "cell_type": "code",
      "source": [
        "#Resolver ACT8 en esta celda.\n",
        "cantidad = int(input(\"Cuantas palabras queres ordenar? \"))\n",
        "lista = []\n",
        "for i in range(cantidad):\n",
        "  palabra = str(input(f\"Palabra #{i+1}: \"))\n",
        "  lista.append(palabra)\n",
        "print(\"Tu lista ingresada: \", lista)\n",
        "lista = sorted(lista)\n",
        "print(\"Tu lista Ordenada: \", lista)\n"
      ],
      "metadata": {
        "id": "UwaDnytqkz6z",
        "colab": {
          "base_uri": "https://localhost:8080/"
        },
        "outputId": "8a0196aa-8359-4061-e72d-d660671d770b"
      },
      "execution_count": 52,
      "outputs": [
        {
          "output_type": "stream",
          "name": "stdout",
          "text": [
            "Cuantas palabras queres ordenar? 3\n",
            "Palabra #1: Python\n",
            "Palabra #2: Data\n",
            "Palabra #3: Analytics\n",
            "Tu lista ingresada:  ['Python', 'Data', 'Analytics']\n",
            "Tu lista Ordenada:  ['Analytics', 'Data', 'Python']\n"
          ]
        }
      ]
    }
  ]
}