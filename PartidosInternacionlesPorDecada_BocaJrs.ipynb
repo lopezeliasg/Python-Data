{
  "nbformat": 4,
  "nbformat_minor": 0,
  "metadata": {
    "colab": {
      "provenance": [],
      "authorship_tag": "ABX9TyOrjD9Fyq8KMbcJFkS+yKfV",
      "include_colab_link": true
    },
    "kernelspec": {
      "name": "python3",
      "display_name": "Python 3"
    },
    "language_info": {
      "name": "python"
    }
  },
  "cells": [
    {
      "cell_type": "markdown",
      "metadata": {
        "id": "view-in-github",
        "colab_type": "text"
      },
      "source": [
        "<a href=\"https://colab.research.google.com/github/lopezeliasg/Python-Data/blob/main/PartidosInternacionlesPorDecada_BocaJrs.ipynb\" target=\"_parent\"><img src=\"https://colab.research.google.com/assets/colab-badge.svg\" alt=\"Open In Colab\"/></a>"
      ]
    },
    {
      "cell_type": "code",
      "execution_count": null,
      "metadata": {
        "colab": {
          "base_uri": "https://localhost:8080/",
          "height": 175
        },
        "id": "RUH6j0U8E6Bd",
        "outputId": "64d28465-2d68-4d76-e24b-d674cc570105"
      },
      "outputs": [
        {
          "output_type": "execute_result",
          "data": {
            "text/plain": [
              "   #                     Fecha        Ciudad                      Competencia  \\\n",
              "0  1        16 de mayo de 1920    Montevideo              Copa Aldao 1919[1]​   \n",
              "1  2        25 de mayo de 1920  Buenos Aires     Cup Tie Competition 1919[2]​   \n",
              "2  3   20 de noviembre de 1921  Buenos Aires              Copa Aldao 1920[3]​   \n",
              "3  4  20 de septiembre de 1923    Montevideo  Copa de Honor Cusenier 1920[4]​   \n",
              "\n",
              "          Local  Unnamed: 5 Resultado  Unnamed: 7     Visitante  \n",
              "0      Nacional         NaN       3:0         NaN  Boca Juniors  \n",
              "1  Boca Juniors         NaN       2:0         NaN      Nacional  \n",
              "2  Boca Juniors         NaN       1:2         NaN      Nacional  \n",
              "3     Universal         NaN       0:2         NaN  Boca Juniors  "
            ],
            "text/html": [
              "\n",
              "  <div id=\"df-3226ae6d-8763-4923-9aaf-562404145cbf\">\n",
              "    <div class=\"colab-df-container\">\n",
              "      <div>\n",
              "<style scoped>\n",
              "    .dataframe tbody tr th:only-of-type {\n",
              "        vertical-align: middle;\n",
              "    }\n",
              "\n",
              "    .dataframe tbody tr th {\n",
              "        vertical-align: top;\n",
              "    }\n",
              "\n",
              "    .dataframe thead th {\n",
              "        text-align: right;\n",
              "    }\n",
              "</style>\n",
              "<table border=\"1\" class=\"dataframe\">\n",
              "  <thead>\n",
              "    <tr style=\"text-align: right;\">\n",
              "      <th></th>\n",
              "      <th>#</th>\n",
              "      <th>Fecha</th>\n",
              "      <th>Ciudad</th>\n",
              "      <th>Competencia</th>\n",
              "      <th>Local</th>\n",
              "      <th>Unnamed: 5</th>\n",
              "      <th>Resultado</th>\n",
              "      <th>Unnamed: 7</th>\n",
              "      <th>Visitante</th>\n",
              "    </tr>\n",
              "  </thead>\n",
              "  <tbody>\n",
              "    <tr>\n",
              "      <th>0</th>\n",
              "      <td>1</td>\n",
              "      <td>16 de mayo de 1920</td>\n",
              "      <td>Montevideo</td>\n",
              "      <td>Copa Aldao 1919[1]​</td>\n",
              "      <td>Nacional</td>\n",
              "      <td>NaN</td>\n",
              "      <td>3:0</td>\n",
              "      <td>NaN</td>\n",
              "      <td>Boca Juniors</td>\n",
              "    </tr>\n",
              "    <tr>\n",
              "      <th>1</th>\n",
              "      <td>2</td>\n",
              "      <td>25 de mayo de 1920</td>\n",
              "      <td>Buenos Aires</td>\n",
              "      <td>Cup Tie Competition 1919[2]​</td>\n",
              "      <td>Boca Juniors</td>\n",
              "      <td>NaN</td>\n",
              "      <td>2:0</td>\n",
              "      <td>NaN</td>\n",
              "      <td>Nacional</td>\n",
              "    </tr>\n",
              "    <tr>\n",
              "      <th>2</th>\n",
              "      <td>3</td>\n",
              "      <td>20 de noviembre de 1921</td>\n",
              "      <td>Buenos Aires</td>\n",
              "      <td>Copa Aldao 1920[3]​</td>\n",
              "      <td>Boca Juniors</td>\n",
              "      <td>NaN</td>\n",
              "      <td>1:2</td>\n",
              "      <td>NaN</td>\n",
              "      <td>Nacional</td>\n",
              "    </tr>\n",
              "    <tr>\n",
              "      <th>3</th>\n",
              "      <td>4</td>\n",
              "      <td>20 de septiembre de 1923</td>\n",
              "      <td>Montevideo</td>\n",
              "      <td>Copa de Honor Cusenier 1920[4]​</td>\n",
              "      <td>Universal</td>\n",
              "      <td>NaN</td>\n",
              "      <td>0:2</td>\n",
              "      <td>NaN</td>\n",
              "      <td>Boca Juniors</td>\n",
              "    </tr>\n",
              "  </tbody>\n",
              "</table>\n",
              "</div>\n",
              "      <button class=\"colab-df-convert\" onclick=\"convertToInteractive('df-3226ae6d-8763-4923-9aaf-562404145cbf')\"\n",
              "              title=\"Convert this dataframe to an interactive table.\"\n",
              "              style=\"display:none;\">\n",
              "        \n",
              "  <svg xmlns=\"http://www.w3.org/2000/svg\" height=\"24px\"viewBox=\"0 0 24 24\"\n",
              "       width=\"24px\">\n",
              "    <path d=\"M0 0h24v24H0V0z\" fill=\"none\"/>\n",
              "    <path d=\"M18.56 5.44l.94 2.06.94-2.06 2.06-.94-2.06-.94-.94-2.06-.94 2.06-2.06.94zm-11 1L8.5 8.5l.94-2.06 2.06-.94-2.06-.94L8.5 2.5l-.94 2.06-2.06.94zm10 10l.94 2.06.94-2.06 2.06-.94-2.06-.94-.94-2.06-.94 2.06-2.06.94z\"/><path d=\"M17.41 7.96l-1.37-1.37c-.4-.4-.92-.59-1.43-.59-.52 0-1.04.2-1.43.59L10.3 9.45l-7.72 7.72c-.78.78-.78 2.05 0 2.83L4 21.41c.39.39.9.59 1.41.59.51 0 1.02-.2 1.41-.59l7.78-7.78 2.81-2.81c.8-.78.8-2.07 0-2.86zM5.41 20L4 18.59l7.72-7.72 1.47 1.35L5.41 20z\"/>\n",
              "  </svg>\n",
              "      </button>\n",
              "      \n",
              "  <style>\n",
              "    .colab-df-container {\n",
              "      display:flex;\n",
              "      flex-wrap:wrap;\n",
              "      gap: 12px;\n",
              "    }\n",
              "\n",
              "    .colab-df-convert {\n",
              "      background-color: #E8F0FE;\n",
              "      border: none;\n",
              "      border-radius: 50%;\n",
              "      cursor: pointer;\n",
              "      display: none;\n",
              "      fill: #1967D2;\n",
              "      height: 32px;\n",
              "      padding: 0 0 0 0;\n",
              "      width: 32px;\n",
              "    }\n",
              "\n",
              "    .colab-df-convert:hover {\n",
              "      background-color: #E2EBFA;\n",
              "      box-shadow: 0px 1px 2px rgba(60, 64, 67, 0.3), 0px 1px 3px 1px rgba(60, 64, 67, 0.15);\n",
              "      fill: #174EA6;\n",
              "    }\n",
              "\n",
              "    [theme=dark] .colab-df-convert {\n",
              "      background-color: #3B4455;\n",
              "      fill: #D2E3FC;\n",
              "    }\n",
              "\n",
              "    [theme=dark] .colab-df-convert:hover {\n",
              "      background-color: #434B5C;\n",
              "      box-shadow: 0px 1px 3px 1px rgba(0, 0, 0, 0.15);\n",
              "      filter: drop-shadow(0px 1px 2px rgba(0, 0, 0, 0.3));\n",
              "      fill: #FFFFFF;\n",
              "    }\n",
              "  </style>\n",
              "\n",
              "      <script>\n",
              "        const buttonEl =\n",
              "          document.querySelector('#df-3226ae6d-8763-4923-9aaf-562404145cbf button.colab-df-convert');\n",
              "        buttonEl.style.display =\n",
              "          google.colab.kernel.accessAllowed ? 'block' : 'none';\n",
              "\n",
              "        async function convertToInteractive(key) {\n",
              "          const element = document.querySelector('#df-3226ae6d-8763-4923-9aaf-562404145cbf');\n",
              "          const dataTable =\n",
              "            await google.colab.kernel.invokeFunction('convertToInteractive',\n",
              "                                                     [key], {});\n",
              "          if (!dataTable) return;\n",
              "\n",
              "          const docLinkHtml = 'Like what you see? Visit the ' +\n",
              "            '<a target=\"_blank\" href=https://colab.research.google.com/notebooks/data_table.ipynb>data table notebook</a>'\n",
              "            + ' to learn more about interactive tables.';\n",
              "          element.innerHTML = '';\n",
              "          dataTable['output_type'] = 'display_data';\n",
              "          await google.colab.output.renderOutput(dataTable, element);\n",
              "          const docLink = document.createElement('div');\n",
              "          docLink.innerHTML = docLinkHtml;\n",
              "          element.appendChild(docLink);\n",
              "        }\n",
              "      </script>\n",
              "    </div>\n",
              "  </div>\n",
              "  "
            ]
          },
          "metadata": {},
          "execution_count": 13
        }
      ],
      "source": [
        "import pandas as pd\n",
        "#Leer y guardar tablas en html de wiki\n",
        "partidos_Decadas = pd.read_html('https://es.wikipedia.org/wiki/Anexo:Partidos_internacionales_del_Club_Atl%C3%A9tico_Boca_Juniors#Resultados_por_d%C3%A9cadas')\n",
        "\n",
        "#len(partidos_Decadas)\n",
        "\n",
        "#Mostrar Tabla en especifico\n",
        "partidos_Decadas[5]\n",
        "\n"
      ]
    },
    {
      "cell_type": "code",
      "source": [
        "#Inspeccionar Nombre de Columnas\n",
        "for i in range(5,len(partidos_Decadas),1):\n",
        "  print(partidos_Decadas[i].columns)\n"
      ],
      "metadata": {
        "colab": {
          "base_uri": "https://localhost:8080/"
        },
        "id": "kLe26-MQH6e9",
        "outputId": "479c47ca-b229-4217-da19-50e0867e6fda"
      },
      "execution_count": null,
      "outputs": [
        {
          "output_type": "stream",
          "name": "stdout",
          "text": [
            "Index(['#', 'Fecha', 'Ciudad', 'Competencia', 'Local', 'Unnamed: 5',\n",
            "       'Resultado', 'Unnamed: 7', 'Visitante'],\n",
            "      dtype='object')\n",
            "Index(['#', 'Fecha', 'Ciudad', 'Competencia', 'Local', 'Unnamed: 5',\n",
            "       'Resultado', 'Unnamed: 7', 'Visitante'],\n",
            "      dtype='object')\n",
            "Index(['#', 'Fecha', 'Ciudad', 'Competencia', 'Local', 'Unnamed: 5',\n",
            "       'Resultado', 'Unnamed: 7', 'Visitante'],\n",
            "      dtype='object')\n",
            "Index(['#', 'Fecha', 'Ciudad', 'Competencia', 'Local', 'Unnamed: 5',\n",
            "       'Resultado', 'Unnamed: 7', 'Visitante'],\n",
            "      dtype='object')\n",
            "Index(['#', 'Fecha', 'Ciudad', 'Competencia', 'Local', 'Unnamed: 5',\n",
            "       'Resultado', 'Unnamed: 7', 'Visitante'],\n",
            "      dtype='object')\n",
            "Index(['#', 'Fecha', 'Ciudad', 'Competencia', 'Local', 'Unnamed: 5',\n",
            "       'Resultado', 'Unnamed: 7', 'Visitante'],\n",
            "      dtype='object')\n",
            "Index(['#', 'Fecha', 'Ciudad', 'Competencia', 'Local', 'Unnamed: 5',\n",
            "       'Resultado', 'Unnamed: 7', 'Visitante'],\n",
            "      dtype='object')\n",
            "Index(['#', 'Fecha', 'Ciudad', 'Competencia', 'Local', 'Unnamed: 5',\n",
            "       'Resultado', 'Unnamed: 7', 'Visitante'],\n",
            "      dtype='object')\n",
            "Index(['#', 'Fecha', 'Ciudad', 'Competencia', 'Local', 'Unnamed: 5',\n",
            "       'Resultado', 'Unnamed: 7', 'Visitante'],\n",
            "      dtype='object')\n"
          ]
        }
      ]
    },
    {
      "cell_type": "code",
      "source": [
        "#Inspeccionar Nombre de Columnas\n",
        "for i in range(5, len(partidos_Decadas), 1):\n",
        "  print(partidos_Decadas[i].columns[5])\n",
        "  print(partidos_Decadas[i].columns[7])"
      ],
      "metadata": {
        "colab": {
          "base_uri": "https://localhost:8080/"
        },
        "id": "uPlbGrKnTXnM",
        "outputId": "9767c8de-6504-4505-9a54-6489e8a20ebe"
      },
      "execution_count": null,
      "outputs": [
        {
          "output_type": "stream",
          "name": "stdout",
          "text": [
            "Unnamed: 5\n",
            "Unnamed: 7\n",
            "Unnamed: 5\n",
            "Unnamed: 7\n",
            "Unnamed: 5\n",
            "Unnamed: 7\n",
            "Unnamed: 5\n",
            "Unnamed: 7\n",
            "Unnamed: 5\n",
            "Unnamed: 7\n",
            "Unnamed: 5\n",
            "Unnamed: 7\n",
            "Unnamed: 5\n",
            "Unnamed: 7\n",
            "Unnamed: 5\n",
            "Unnamed: 7\n",
            "Unnamed: 5\n",
            "Unnamed: 7\n"
          ]
        }
      ]
    },
    {
      "cell_type": "code",
      "source": [
        "import pandas as pd\n",
        "\n",
        "#Leer y guardar tablas en html de wiki\n",
        "partidos_Decadas = pd.read_html('https://es.wikipedia.org/wiki/Anexo:Partidos_internacionales_del_Club_Atl%C3%A9tico_Boca_Juniors#Resultados_por_d%C3%A9cadas')\n",
        "\n",
        "for i in range(5, len(partidos_Decadas), 1):\n",
        "  df = partidos_Decadas[i]\n",
        "  '''df.pop('Local')\n",
        "  df.pop('Visitante')'''\n",
        "  df.pop('Unnamed: 5')\n",
        "  df.pop('Unnamed: 7')\n",
        "\n",
        "print(partidos_Decadas[5])"
      ],
      "metadata": {
        "colab": {
          "base_uri": "https://localhost:8080/"
        },
        "id": "Hy2ecrY8T7Sq",
        "outputId": "63b5973e-2346-46f2-f67e-18005cadc580"
      },
      "execution_count": null,
      "outputs": [
        {
          "output_type": "stream",
          "name": "stdout",
          "text": [
            "   #                     Fecha        Ciudad                      Competencia  \\\n",
            "0  1        16 de mayo de 1920    Montevideo              Copa Aldao 1919[1]​   \n",
            "1  2        25 de mayo de 1920  Buenos Aires     Cup Tie Competition 1919[2]​   \n",
            "2  3   20 de noviembre de 1921  Buenos Aires              Copa Aldao 1920[3]​   \n",
            "3  4  20 de septiembre de 1923    Montevideo  Copa de Honor Cusenier 1920[4]​   \n",
            "\n",
            "          Local Resultado     Visitante  \n",
            "0      Nacional       3:0  Boca Juniors  \n",
            "1  Boca Juniors       2:0      Nacional  \n",
            "2  Boca Juniors       1:2      Nacional  \n",
            "3     Universal       0:2  Boca Juniors  \n"
          ]
        }
      ]
    },
    {
      "cell_type": "code",
      "source": [
        "import pandas as pd\n",
        "\n",
        "#Leer y guardar tablas en html de wiki\n",
        "partidos_Decadas = pd.read_html('https://es.wikipedia.org/wiki/Anexo:Partidos_internacionales_del_Club_Atl%C3%A9tico_Boca_Juniors#Resultados_por_d%C3%A9cadas')\n",
        "ganados = []\n",
        "for i in range(5, len(partidos_Decadas), 1):\n",
        "  df = partidos_Decadas[i]\n",
        "  df.pop('Unnamed: 5')\n",
        "  df.pop('Unnamed: 7')\n",
        "print()\n",
        "\n",
        "partido_Resultados = pd.DataFrame(partidos_Decadas[5])\n",
        "\n",
        "# mostrar la columna \n",
        "columna = partido_Resultados[['Local','Resultado','Visitante']]\n",
        "print(columna)\n",
        "print()\n",
        "# mostrar filas de partidos de local\n",
        "partidos_Local = columna[columna['Local'] == \"Boca Juniors\"]\n",
        "print(partidos_Local)\n",
        "print()"
      ],
      "metadata": {
        "colab": {
          "base_uri": "https://localhost:8080/"
        },
        "id": "06Zi8CJo_zpO",
        "outputId": "b92cace4-bbbb-4599-c800-a33e232c1d76"
      },
      "execution_count": null,
      "outputs": [
        {
          "output_type": "stream",
          "name": "stdout",
          "text": [
            "\n",
            "          Local Resultado     Visitante\n",
            "0      Nacional       3:0  Boca Juniors\n",
            "1  Boca Juniors       2:0      Nacional\n",
            "2  Boca Juniors       1:2      Nacional\n",
            "3     Universal       0:2  Boca Juniors\n",
            "\n",
            "          Local Resultado Visitante\n",
            "1  Boca Juniors       2:0  Nacional\n",
            "2  Boca Juniors       1:2  Nacional\n",
            "\n"
          ]
        }
      ]
    },
    {
      "cell_type": "code",
      "source": [
        "import pandas as pd\n",
        "\n",
        "#Leer y guardar tablas en html de wiki\n",
        "partidos_Decadas = pd.read_html('https://es.wikipedia.org/wiki/Anexo:Partidos_internacionales_del_Club_Atl%C3%A9tico_Boca_Juniors#Resultados_por_d%C3%A9cadas')\n",
        "ganados = []\n",
        "for i in range(5, len(partidos_Decadas), 1):\n",
        "  df = partidos_Decadas[i]\n",
        "  df.pop('Unnamed: 5')\n",
        "  df.pop('Unnamed: 7')\n",
        "print()\n",
        "\n",
        "partido_Resultados = pd.DataFrame(partidos_Decadas[5])\n",
        "\n",
        "# mostrar la columna \n",
        "columna = partido_Resultados[['Local','Resultado','Visitante']]\n",
        "print(columna)\n",
        "print()\n",
        "# mostrar filas de partidos de local\n",
        "partidos_Local = columna[columna['Local'] == \"Boca Juniors\"]\n",
        "print(partidos_Local)\n",
        "print()\n",
        "resultado_Local = partidos_Local['Resultado']\n",
        "cadena = resultado_Local.str.split(':', n=1, expand=True)\n",
        "print(resultado_Local)\n",
        "print()\n",
        "print(cadena)\n"
      ],
      "metadata": {
        "colab": {
          "base_uri": "https://localhost:8080/"
        },
        "id": "fcMADQWKceWr",
        "outputId": "cbe48559-3484-4e56-98c3-dc4242867ada"
      },
      "execution_count": null,
      "outputs": [
        {
          "output_type": "stream",
          "name": "stdout",
          "text": [
            "\n",
            "          Local Resultado     Visitante\n",
            "0      Nacional       3:0  Boca Juniors\n",
            "1  Boca Juniors       2:0      Nacional\n",
            "2  Boca Juniors       1:2      Nacional\n",
            "3     Universal       0:2  Boca Juniors\n",
            "\n",
            "          Local Resultado Visitante\n",
            "1  Boca Juniors       2:0  Nacional\n",
            "2  Boca Juniors       1:2  Nacional\n",
            "\n",
            "1    2:0\n",
            "2    1:2\n",
            "Name: Resultado, dtype: object\n",
            "\n",
            "   0  1\n",
            "1  2  0\n",
            "2  1  2\n"
          ]
        }
      ]
    },
    {
      "cell_type": "code",
      "source": [
        "ganar = 0\n",
        "if (cadena[0][1]>cadena[1][1]):\n",
        "  ganar = ganar + 1\n",
        "  print(\"Partido 1: Ganó\")\n",
        "print()\n",
        "if (cadena[0][2]<cadena[1][2]):\n",
        "  print(\"Partido 2: Perdió\")\n",
        "print()\n",
        "print(\"partidos de Local Ganados: \"\n",
        "        +str(ganar))\n",
        "print()"
      ],
      "metadata": {
        "colab": {
          "base_uri": "https://localhost:8080/"
        },
        "id": "v3caEHwcdhe2",
        "outputId": "fb4280c0-c247-496e-adf5-5355adf9237e"
      },
      "execution_count": null,
      "outputs": [
        {
          "output_type": "stream",
          "name": "stdout",
          "text": [
            "Partido 1: Ganó\n",
            "\n",
            "Partido 2: Perdió\n",
            "\n",
            "partidos de Local Ganados: 1\n",
            "\n"
          ]
        }
      ]
    }
  ]
}